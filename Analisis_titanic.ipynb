{
 "cells": [
  {
   "cell_type": "markdown",
   "id": "704689f6-2f8a-41ff-8c80-44b61b8f19b8",
   "metadata": {},
   "source": [
    "# Proyecto usando datos de Kaggle"
   ]
  },
  {
   "cell_type": "markdown",
   "id": "9b6c9c6c-015f-42d6-898a-eac87a8e8a80",
   "metadata": {},
   "source": [
    "*    qué es kaggle y cómo descargar datos --> https://www.youtube.com/watch?v=NhHTWGIglRI\n",
    "*    mirar notebooks --> https://www.kaggle.com/alexisbcook/titanic-tutorial\n",
    "*    Repo en --> https://github.com/gonzalezgouveia/proyecto-titanic/\n",
    "*    Video explicativo de este código YouTube --> https://www.youtube.com/watch?v=VkU-9Us6Rpw\n"
   ]
  },
  {
   "cell_type": "markdown",
   "id": "f599c85b-41e0-41cb-a6b6-49c004443a24",
   "metadata": {},
   "source": [
    "### Pasos de este estudio\n",
    "1. Carga de datos\n",
    "1. Exploración\n",
    "1. Procesamiento\n",
    "1. Modelos\n",
    "1. Evaluación\n",
    "1. Predicción\n",
    "1. Conclusión y próximos pasos"
   ]
  },
  {
   "cell_type": "markdown",
   "id": "5cb43c8e-0d66-4fdb-bd30-36884935a6aa",
   "metadata": {},
   "source": [
    "# Analisis de datos del titanic"
   ]
  },
  {
   "cell_type": "markdown",
   "id": "df300a8a-62e1-4abf-bf59-6abb3bf8b9bd",
   "metadata": {},
   "source": [
    "## 1. Cargando datos"
   ]
  },
  {
   "cell_type": "code",
   "execution_count": null,
   "id": "2afac633-4809-4f59-b2c6-d57724198835",
   "metadata": {},
   "outputs": [],
   "source": [
    "import pandas as pd\n",
    "import numpy as np\n",
    "import matplotlib.pyplot as plt"
   ]
  },
  {
   "cell_type": "code",
   "execution_count": null,
   "id": "0b03839c-adf5-42a4-a6f1-6510466d2fed",
   "metadata": {},
   "outputs": [],
   "source": [
    "# lectura de datos en Python\n",
    "train = pd.read_csv('./../data/train.csv')\n",
    "test = pd.read_csv('./../data/test.csv')"
   ]
  },
  {
   "cell_type": "code",
   "execution_count": null,
   "id": "c7849a01-4ff4-4e3f-9f60-c6ce4918d3f4",
   "metadata": {},
   "outputs": [],
   "source": [
    "train.head()"
   ]
  },
  {
   "cell_type": "markdown",
   "id": "9fc13136-39cd-46e9-b4fe-9ba9c8730de2",
   "metadata": {},
   "source": [
    "## 2. Explorando datos"
   ]
  },
  {
   "cell_type": "code",
   "execution_count": null,
   "id": "f2a770c4-e6d7-4969-83f0-344256c6ecfa",
   "metadata": {},
   "outputs": [],
   "source": [
    "# que columnas tienen los datos?\n",
    "train.columns"
   ]
  },
  {
   "cell_type": "code",
   "execution_count": null,
   "id": "0089acbc-61a4-4c1f-8044-05aae77e622e",
   "metadata": {},
   "outputs": [],
   "source": [
    "# qué tamaño tienen los datos?\n",
    "train.shape"
   ]
  },
  {
   "cell_type": "code",
   "execution_count": null,
   "id": "a27556af-6c19-4f85-8a27-bf6c1441e746",
   "metadata": {},
   "outputs": [],
   "source": [
    "# hay valores nulos en los datos?\n",
    "train.info()"
   ]
  },
  {
   "cell_type": "code",
   "execution_count": null,
   "id": "d0aaf39f-4990-4350-a779-95d04e18f7a4",
   "metadata": {},
   "outputs": [],
   "source": [
    "# como se distribuyen las variables numéricas\n",
    "train.describe()"
   ]
  },
  {
   "cell_type": "code",
   "execution_count": null,
   "id": "83e1730d-4362-450c-b161-9ebfbffc7248",
   "metadata": {},
   "outputs": [],
   "source": [
    "# como se comportan las variables categóricas\n",
    "train.describe(include=['O'])"
   ]
  },
  {
   "cell_type": "markdown",
   "id": "f203f2d5-3745-4975-9299-bc6ca1946cb3",
   "metadata": {},
   "source": [
    "## 2.1 EDA: Estudio de variable target"
   ]
  },
  {
   "cell_type": "code",
   "execution_count": null,
   "id": "016be869-4508-43c0-9512-02f0fb0f6788",
   "metadata": {},
   "outputs": [],
   "source": [
    "train.groupby(['Survived']).count()['PassengerId']"
   ]
  },
  {
   "cell_type": "code",
   "execution_count": null,
   "id": "9042b5db-7f0a-4677-8d95-df1fc12637c4",
   "metadata": {},
   "outputs": [],
   "source": [
    "# target vs sex\n",
    "train.groupby(['Survived','Sex']).count()['PassengerId']"
   ]
  },
  {
   "cell_type": "code",
   "execution_count": null,
   "id": "b36063b4-8db4-4d9e-8389-3d0c5a0d1976",
   "metadata": {},
   "outputs": [],
   "source": [
    "grouped_sex = train.groupby(['Survived','Sex']).count()['PassengerId']\n",
    "print(grouped_sex)\n",
    "(grouped_sex.unstack(level=0).plot.bar())\n",
    "plt.show()"
   ]
  },
  {
   "cell_type": "code",
   "execution_count": null,
   "id": "657c9f7d-2c5f-482b-87de-f8ab419662c7",
   "metadata": {},
   "outputs": [],
   "source": [
    "# tarea hacer para otras variables"
   ]
  },
  {
   "cell_type": "code",
   "execution_count": null,
   "id": "76feda4e-203f-4326-87ea-cd1b33c6b68e",
   "metadata": {},
   "outputs": [],
   "source": [
    "# embarked vs pclass\n",
    "print(train.groupby(['Pclass', 'Embarked'])\n",
    "        .count()['PassengerId']\n",
    "        .unstack(level=0)\n",
    "        .plot.bar())"
   ]
  },
  {
   "cell_type": "markdown",
   "id": "b9d42cf4-9e13-4004-a255-fe1bb2366a73",
   "metadata": {},
   "source": [
    "## 3.Procesamiento de datos"
   ]
  },
  {
   "cell_type": "markdown",
   "id": "1fd0fee3-3500-4160-bbac-98434e130d02",
   "metadata": {},
   "source": [
    "Empezamos seleccionando las variables que queremos trabajar que serían: \n",
    "* Survived\n",
    "* Sex\n",
    "* Age\n",
    "* Pclass"
   ]
  },
  {
   "cell_type": "code",
   "execution_count": null,
   "id": "1d5aeadd-3a91-4292-8e82-4ecc72cd9cc6",
   "metadata": {},
   "outputs": [],
   "source": [
    "train[['Survived', 'Sex', 'Age', 'Pclass']].head(3)"
   ]
  },
  {
   "cell_type": "markdown",
   "id": "2e3c1894-7c8b-46da-a66b-45a235b6639a",
   "metadata": {},
   "source": [
    "Estudiamos los datos nulos"
   ]
  },
  {
   "cell_type": "code",
   "execution_count": null,
   "id": "38d286ae-e1fb-41d3-a5c9-1705b306e507",
   "metadata": {},
   "outputs": [],
   "source": [
    "train[['Survived', 'Sex', 'Age', 'Pclass']].info()"
   ]
  },
  {
   "cell_type": "markdown",
   "id": "97f4a41d-1170-451d-bbe6-77923c75c248",
   "metadata": {},
   "source": [
    "-----------------------\n",
    "Tenemos que mejorar\n",
    "\n",
    "*    Datos faltantes en Age `train['Age'].isna()`\n",
    "*    La variable Sex aparece como object y queremos int o float para algoritmos\n",
    "-----------------------"
   ]
  },
  {
   "cell_type": "code",
   "execution_count": null,
   "id": "dbfa1ad1-eff4-40ea-869e-63e1389452c7",
   "metadata": {},
   "outputs": [],
   "source": [
    "# mirar como se distribuyen los nulos en edad\n",
    "(train[train['Age'].isna()]\n",
    "      .groupby(['Sex', 'Pclass'])\n",
    "      .count()['PassengerId']\n",
    "      .unstack(level=0))"
   ]
  },
  {
   "cell_type": "code",
   "execution_count": null,
   "id": "83b9a6cb-1ad2-4780-88bc-3a5c2f32d345",
   "metadata": {},
   "outputs": [],
   "source": [
    "(train[train['Age'].isna()]\n",
    "      .groupby(['SibSp', 'Parch'])\n",
    "      .count()['PassengerId']\n",
    "      .unstack(level=0))"
   ]
  },
  {
   "cell_type": "markdown",
   "id": "a393b4ca-8105-4a5d-9b84-1fc1a084ece0",
   "metadata": {},
   "source": [
    "De arriba se puede concluir que era gente que viajaba mayormente sola y la mayoría eran de 3era clase.\n",
    "\n",
    "Esto nos da la idea de que se puede crear una variable que indique si la persona viajaba sola o acompañada.\n",
    "\n",
    "La crearemos más adelante\n"
   ]
  },
  {
   "cell_type": "code",
   "execution_count": null,
   "id": "80ff99c9-1b76-4bcd-b649-161ed33f9ffa",
   "metadata": {},
   "outputs": [],
   "source": [
    "# calcular mediana de Age para imputar\n",
    "train['Age'].median()"
   ]
  },
  {
   "cell_type": "code",
   "execution_count": null,
   "id": "28b116f5-b669-49a0-bfe3-a3cd55ca7bb5",
   "metadata": {},
   "outputs": [],
   "source": [
    "# imputar valor para rellenar nulos\n",
    "train['Age'] = train['Age'].fillna(28.0)\n",
    "train[['Survived', 'Sex', 'Age', 'Pclass']].info()"
   ]
  },
  {
   "cell_type": "markdown",
   "id": "717851c2-51b8-478d-8785-aa5521713cd8",
   "metadata": {},
   "source": [
    "Ya no tenemos nulos. Falta resolver lo de pasar Sex a int"
   ]
  },
  {
   "cell_type": "code",
   "execution_count": null,
   "id": "30b8585d-ca85-4076-8f7f-fa5f00499126",
   "metadata": {},
   "outputs": [],
   "source": [
    "# map para label encoding\n",
    "train['Sex'] = train['Sex'].map({'female': 1, 'male': 0}).astype(int)"
   ]
  },
  {
   "cell_type": "markdown",
   "id": "83d901da-7090-4598-baf1-b02b0558ab5a",
   "metadata": {},
   "source": [
    "Ahora tenemos la tabla preprocesada lista"
   ]
  },
  {
   "cell_type": "code",
   "execution_count": null,
   "id": "8f6e0595-2903-4585-9906-2b48542f7ab9",
   "metadata": {},
   "outputs": [],
   "source": [
    "train[['Survived', 'Sex', 'Age', 'Pclass']].head(3)"
   ]
  },
  {
   "cell_type": "markdown",
   "id": "04bf45b4-4769-4466-81a0-4463382e6d82",
   "metadata": {},
   "source": [
    "## 3.1 Crear nuevas variables"
   ]
  },
  {
   "cell_type": "code",
   "execution_count": null,
   "id": "a26dc32a-c612-47a3-b42d-7a3c34521250",
   "metadata": {},
   "outputs": [],
   "source": [
    "# crear nueva variable tipo flag \"solo\"\n",
    "train['FlagSolo'] = np.where(\n",
    "    (train['SibSp'] == 0) & (train['Parch'] == 0), 1, 0)"
   ]
  },
  {
   "cell_type": "code",
   "execution_count": null,
   "id": "376c48ca-7505-4e95-a7da-a548c3e8d9a4",
   "metadata": {},
   "outputs": [],
   "source": [
    "grouped_flag = train.groupby(['Survived','FlagSolo']).count()['PassengerId']\n",
    "print(grouped_flag)\n",
    "(grouped_flag.unstack(level=0).plot.bar())\n",
    "plt.show()"
   ]
  },
  {
   "cell_type": "code",
   "execution_count": null,
   "id": "6f45f5d3-fa43-42ed-a00b-5f52d80de467",
   "metadata": {},
   "outputs": [],
   "source": [
    "train[['Survived', 'Sex', 'Age', 'Pclass', 'FlagSolo']].head(3)"
   ]
  },
  {
   "cell_type": "markdown",
   "id": "83281680-cce7-40ea-a281-3e4ccde3b788",
   "metadata": {},
   "source": [
    "Estos ya serían los datos con los que vamos a hacer modelos"
   ]
  },
  {
   "cell_type": "code",
   "execution_count": null,
   "id": "8a1e4b4c-f9b3-4a2d-ac0e-40f0e04508d1",
   "metadata": {},
   "outputs": [],
   "source": [
    "# variable dependiente\n",
    "Y_train = train['Survived']\n",
    "\n",
    "# preprocesamiento de variables independientes\n",
    "features = ['Sex', 'Age', 'Pclass', 'FlagSolo']\n",
    "X_train = train[features]\n",
    "\n",
    "print(Y_train.shape, X_train.shape)"
   ]
  },
  {
   "cell_type": "markdown",
   "id": "6b79ea36-6366-4a67-a963-fc4516cf8bdc",
   "metadata": {},
   "source": [
    "## 4. Modelos"
   ]
  },
  {
   "cell_type": "markdown",
   "id": "a820559a-a0ab-4c90-b491-199469fc1212",
   "metadata": {},
   "source": [
    "Sin entrar en mucho detalle. Vamos a escoger dos modelos de prueba.\n",
    "* regresión logistica\n",
    "* arboles de decisión"
   ]
  },
  {
   "cell_type": "code",
   "execution_count": null,
   "id": "94e37ce2-6acd-4d73-9274-e90d438e476c",
   "metadata": {},
   "outputs": [],
   "source": [
    "# entrenando modelo regresión logistica\n",
    "from sklearn.linear_model import LogisticRegression\n",
    "\n",
    "logreg = LogisticRegression()\n",
    "logreg.fit(X_train, Y_train)"
   ]
  },
  {
   "cell_type": "code",
   "execution_count": null,
   "id": "aaeef8fe-6b8a-4da6-89c1-4a840b952159",
   "metadata": {},
   "outputs": [],
   "source": [
    "# entrenando modelo arboles de decisión\n",
    "from sklearn.tree import DecisionTreeClassifier\n",
    "\n",
    "decision_tree = DecisionTreeClassifier()\n",
    "decision_tree.fit(X_train, Y_train)"
   ]
  },
  {
   "cell_type": "markdown",
   "id": "2669b916-7d9a-4d7d-9b9b-e6394493e557",
   "metadata": {},
   "source": [
    "## 5. Evaluación"
   ]
  },
  {
   "cell_type": "markdown",
   "id": "3243848b-b708-4c54-9573-7e0d0b7f2613",
   "metadata": {},
   "source": [
    "Aquí vamos a hacer una matriz de confusión y evaluar que tan bueno es cada modelo"
   ]
  },
  {
   "cell_type": "code",
   "execution_count": null,
   "id": "f388574f-2180-4981-b898-59a8c06ed29c",
   "metadata": {},
   "outputs": [],
   "source": [
    "from sklearn.metrics import plot_confusion_matrix\n",
    "\n",
    "def conf_mat_acc(modelo):\n",
    "  disp = plot_confusion_matrix(modelo, X_train, Y_train,\n",
    "                        cmap=plt.cm.Blues, values_format=\"d\")\n",
    "  true_pred = disp.confusion_matrix[0,0]+disp.confusion_matrix[1,1]\n",
    "  total_data = np.sum(disp.confusion_matrix)\n",
    "  accuracy = true_pred/total_data\n",
    "  print('accuracy: ', np.round(accuracy, 2))\n",
    "  plt.show()"
   ]
  },
  {
   "cell_type": "code",
   "execution_count": null,
   "id": "0267d15c-9b20-4387-8bd1-47debbd925d0",
   "metadata": {},
   "outputs": [],
   "source": [
    "conf_mat_acc(logreg)"
   ]
  },
  {
   "cell_type": "code",
   "execution_count": null,
   "id": "84860728-d447-49e4-9cc0-8f67590cf34e",
   "metadata": {},
   "outputs": [],
   "source": [
    "conf_mat_acc(decision_tree)"
   ]
  },
  {
   "cell_type": "markdown",
   "id": "c5266ca2-239d-46de-a8aa-350dcba4d2c3",
   "metadata": {},
   "source": [
    "## 5.1 Evaluación sobre el test set"
   ]
  },
  {
   "cell_type": "markdown",
   "id": "6ef4ffb7-a2c6-43d6-968c-1cd4d32b6175",
   "metadata": {},
   "source": [
    "Antes hicimos la matriz de confusión sobre el train set. Esto no es del todo correcto porque estamos utilizando como validación los datos que usamos de entrenamiento. Por lo tanto, la estimación del error sería sesgada y tendría poca capacidad de generalización a casos que no haya \"visto\" el modelo.\n",
    "\n",
    "Por eso necesitamos utilizar el test set. Sin embargo, Kaggle no nos regresa el valor real del test set, para verificarlo tenemos que enviar nuestros resultados y mirar el score que pone kaggle esto lo veremos más adelante"
   ]
  },
  {
   "cell_type": "code",
   "execution_count": null,
   "id": "f1836f80-cb7d-42ee-9b64-552899e7e83d",
   "metadata": {},
   "outputs": [],
   "source": [
    "# ahora hay que preparar el test set para evaluación\n",
    "print(test.head(3))\n",
    "test.info()"
   ]
  },
  {
   "cell_type": "code",
   "execution_count": null,
   "id": "19d20364-6fe4-49e8-abd7-cf833d217911",
   "metadata": {},
   "outputs": [],
   "source": [
    "# preprocesando test set\n",
    "\n",
    "# hacer map a Sex\n",
    "test['Sex'] = test['Sex'].map({'female': 1, 'male': 0}).astype(int)\n",
    "\n",
    "# rellenar Age\n",
    "test['Age'] = test['Age'].fillna(28.0)\n",
    "\n",
    "# Crear FlagSolo\n",
    "test['FlagSolo'] = np.where(\n",
    "    (test['SibSp'] == 0) & (test['Parch'] == 0), 1, 0)"
   ]
  },
  {
   "cell_type": "code",
   "execution_count": null,
   "id": "39f8852a-b1f8-4f2d-a075-cba371b57d70",
   "metadata": {},
   "outputs": [],
   "source": [
    "print(test.info())\n",
    "test[features].head(3)"
   ]
  },
  {
   "cell_type": "code",
   "execution_count": null,
   "id": "1ce78422-c4d1-4c5d-ad06-3b662cf8376b",
   "metadata": {},
   "outputs": [],
   "source": [
    "# crear test set \n",
    "X_test = test[features]\n",
    "\n",
    "print(X_test.shape)"
   ]
  },
  {
   "cell_type": "code",
   "execution_count": null,
   "id": "9ad4b650-b2df-4e6e-b5db-8b1ebba43e83",
   "metadata": {},
   "outputs": [],
   "source": [
    "# prediccion de Survived en test set\n",
    "Y_pred_log = logreg.predict(X_test)\n",
    "Y_pred_tree = decision_tree.predict(X_test)\n",
    "print(Y_pred_log[0:10])"
   ]
  },
  {
   "cell_type": "markdown",
   "id": "cd762e5b-7de4-4927-ad86-4a8dc002b73b",
   "metadata": {},
   "source": [
    "Nota: Estas predicciones deberían ser ahora comparadas con el valor real para obtener una mejor estimación del error de predicción sobre el test set y poder escoger un modelo.\n",
    "\n",
    "Sin embargo, como es una competicion de Kaggle este valor solo lo conoce la plataforma.\n",
    "\n",
    "Vamos a exportar estos CSV y luego subirlos para ver cual tiene mejor rendimiento.\n"
   ]
  },
  {
   "cell_type": "markdown",
   "id": "f96377dd-f741-4d33-a106-759a2df17bb9",
   "metadata": {},
   "source": [
    "## 6. Predicción"
   ]
  },
  {
   "cell_type": "code",
   "execution_count": null,
   "id": "865c0aae-7ef9-44c4-956d-3d09c01de4b0",
   "metadata": {},
   "outputs": [],
   "source": [
    "# prediciendo sobre el test set\n",
    "print(Y_pred_log[0:20])\n",
    "print(Y_pred_tree[0:20])"
   ]
  },
  {
   "cell_type": "code",
   "execution_count": null,
   "id": "73c74a39-50ca-40c5-bbe1-39a3c0c24547",
   "metadata": {},
   "outputs": [],
   "source": [
    "# para descargar en ordenador\n",
    "def download_output(y_pred, name):\n",
    "  output = pd.DataFrame({'PassengerId': test.PassengerId, \n",
    "                         'Survived': y_pred})\n",
    "  output.to_csv(name, index=False)"
   ]
  },
  {
   "cell_type": "code",
   "execution_count": null,
   "id": "2f4a1fff-17e9-4ee4-834d-1e6dc40b4ac7",
   "metadata": {},
   "outputs": [],
   "source": [
    "download_output(Y_pred_log, 'rafa_pred_log.csv')\n",
    "download_output(Y_pred_tree, 'rafa_pred_tree.csv')"
   ]
  },
  {
   "cell_type": "markdown",
   "id": "ae6e405a-1391-4b21-a8dc-40184576d3fa",
   "metadata": {},
   "source": [
    "Luego de hacer el envio a kaggle:"
   ]
  },
  {
   "attachments": {
    "38c9114f-a26b-45fc-ab03-178a85f9a35a.png": {
     "image/png": "[encoded data removed]"
    }
   },
   "cell_type": "markdown",
   "id": "4ebad816-e20a-4a91-a42d-22415c11f031",
   "metadata": {},
   "source": [
    "![kaggle.png](attachment:38c9114f-a26b-45fc-ab03-178a85f9a35a.png)"
   ]
  },
  {
   "cell_type": "markdown",
   "id": "f218ad2c-4079-432f-bc7c-c8a4d4e0c097",
   "metadata": {},
   "source": [
    "Con lo que muestra que en el test_set hay un mejor valor para accuracy que con train set.\n",
    "\n",
    "Por esta razón, nos quedaríamos con el modelo de regresión logística. Porque generaliza mejor las predicciones para datos con los que no se ha entrenado el modelo.\n"
   ]
  },
  {
   "cell_type": "markdown",
   "id": "9f42c200-ed28-4820-a890-a8c57a21ba12",
   "metadata": {},
   "source": [
    "# Conclusion"
   ]
  },
  {
   "cell_type": "markdown",
   "id": "f3248001-2519-4273-b62e-248bc280ec69",
   "metadata": {},
   "source": [
    "* importante del análisis exploratorio \n",
    "* creación de variables\n",
    "* probar varios modelos\n",
    "* calculo del error con el test_set\n",
    "* vimos (casi) todo el proceso de ciencia de datos en un ejemplo"
   ]
  },
  {
   "cell_type": "markdown",
   "id": "52f383da-17e9-41d8-b806-90d45bc3e70c",
   "metadata": {},
   "source": [
    "## próximos pasos"
   ]
  },
  {
   "cell_type": "markdown",
   "id": "df0c5036-c351-428f-8bc8-afbeae8d3b2a",
   "metadata": {},
   "source": [
    "Ahora, lo que vendría sería desplegar este modelo a producción, hacer predicciones según lo necesite el usuario, hacer seguimiento y realizar el mantenimiento del despliegue.\n",
    "\n",
    "Similar a como se describe superficialmente aquí https://cloud.google.com/ai-platform/docs/ml-solutions-overview\n",
    "\n",
    "Sin embargo, estás etapas corresponden abarcan pasos relacionados a la ingeniería de software o devops que no serán cubiertos en este notebook.\n"
   ]
  },
  {
   "cell_type": "code",
   "execution_count": null,
   "id": "fb4906df-b213-4af7-bcaf-d36e2f7b5a1b",
   "metadata": {},
   "outputs": [],
   "source": []
  }
 ],
 "metadata": {
  "kernelspec": {
   "display_name": "Python 3",
   "language": "python",
   "name": "python3"
  },
  "language_info": {
   "codemirror_mode": {
    "name": "ipython",
    "version": 3
   },
   "file_extension": ".py",
   "mimetype": "text/x-python",
   "name": "python",
   "nbconvert_exporter": "python",
   "pygments_lexer": "ipython3",
   "version": "3.7.10"
  }
 },
 "nbformat": 4,
 "nbformat_minor": 5
}
